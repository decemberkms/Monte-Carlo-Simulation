{
 "cells": [
  {
   "cell_type": "code",
   "execution_count": 2,
   "metadata": {},
   "outputs": [],
   "source": [
    "import turtle\n",
    "import random\n",
    "import matplotlib.pyplot as plt\n",
    "import math"
   ]
  },
  {
   "cell_type": "code",
   "execution_count": 3,
   "metadata": {
    "scrolled": true
   },
   "outputs": [],
   "source": [
    "myPen = turtle.Turtle()\n",
    "myPen.hideturtle()\n",
    "myPen.speed(0)\n",
    "\n",
    "myPen.up()\n",
    "myPen.setposition(-100,100)\n",
    "myPen.down()\n",
    "myPen.fd(200)\n",
    "myPen.left(90)\n",
    "myPen.fd(200)\n",
    "\n",
    "myPen.left(90)\n",
    "myPen.fd(200)\n",
    "myPen.left(90)\n",
    "myPen.fd(200)\n",
    "myPen.left(90)\n"
   ]
  },
  {
   "cell_type": "code",
   "execution_count": 4,
   "metadata": {},
   "outputs": [],
   "source": [
    "myPen.up()\n",
    "myPen.setposition(0,-100)\n",
    "myPen.down()\n",
    "myPen.circle(100)"
   ]
  },
  {
   "cell_type": "code",
   "execution_count": 5,
   "metadata": {},
   "outputs": [],
   "source": [
    "in_circle = 0\n",
    "out_circle = 0\n",
    "\n",
    "pi_values = []"
   ]
  },
  {
   "cell_type": "code",
   "execution_count": 6,
   "metadata": {},
   "outputs": [
    {
     "name": "stdout",
     "output_type": "stream",
     "text": [
      "3.176\n",
      "3.154\n",
      "3.1106666666666665\n",
      "3.135\n",
      "3.1376\n"
     ]
    }
   ],
   "source": [
    "for i in range(5):\n",
    "    for j in range(1000):\n",
    "        \n",
    "        x = random.randrange(-100,100)\n",
    "        y = random.randrange(-100,100)\n",
    "        \n",
    "        if (x**2 + y**2 > 100**2):\n",
    "            myPen.color(\"black\")\n",
    "            myPen.up()\n",
    "            myPen.goto(x,y)\n",
    "            myPen.down()\n",
    "            myPen.dot()\n",
    "            out_circle += 1\n",
    "        else:\n",
    "            myPen.color(\"red\")\n",
    "            myPen.up()\n",
    "            myPen.goto(x,y)\n",
    "            myPen.down()\n",
    "            myPen.dot()\n",
    "            in_circle += 1\n",
    "            \n",
    "        pi = 4.0 * in_circle / (in_circle + out_circle)\n",
    "        \n",
    "        pi_values.append(pi)\n",
    "        \n",
    "        avg_pi_erros = [abs(math.pi - pi) for pi in pi_values]\n",
    "    print(pi_values[-1])"
   ]
  },
  {
   "cell_type": "markdown",
   "metadata": {},
   "source": [
    "### coin flip"
   ]
  },
  {
   "cell_type": "code",
   "execution_count": 1,
   "metadata": {},
   "outputs": [],
   "source": [
    "import random \n",
    "import numpy as np\n",
    "import matplotlib.pyplot as plt"
   ]
  },
  {
   "cell_type": "code",
   "execution_count": 2,
   "metadata": {},
   "outputs": [],
   "source": [
    "def coin_flip():\n",
    "    return random.randint(0,1)"
   ]
  },
  {
   "cell_type": "code",
   "execution_count": 3,
   "metadata": {},
   "outputs": [],
   "source": [
    "list1 = []\n",
    "\n",
    "def monte_carlo(n):\n",
    "    results = 0\n",
    "    for i in range(n):\n",
    "        flip_result = coin_flip()\n",
    "        results += flip_result\n",
    "        \n",
    "        prob_values = results/(i + 1)\n",
    "        \n",
    "        list1.append(prob_values)\n",
    "        \n",
    "        plt.axhline(y=0.5, color = 'r', linestyle = '-')\n",
    "        plt.xlabel(\"Iteration\")\n",
    "        plt.ylabel(\"Probability\")\n",
    "        plt.plot(list1)\n",
    "    return results/n"
   ]
  },
  {
   "cell_type": "code",
   "execution_count": 13,
   "metadata": {},
   "outputs": [
    {
     "name": "stdout",
     "output_type": "stream",
     "text": [
      "Final value:  0.49\n"
     ]
    },
    {
     "data": {
      "image/png": "[encoded data removed]",
      "text/plain": [
       "<Figure size 432x288 with 1 Axes>"
      ]
     },
     "metadata": {
      "needs_background": "light"
     },
     "output_type": "display_data"
    }
   ],
   "source": [
    "answer = monte_carlo(1000)\n",
    "print(\"Final value: \", answer )"
   ]
  },
  {
   "cell_type": "markdown",
   "metadata": {},
   "source": [
    "### dice"
   ]
  },
  {
   "cell_type": "code",
   "execution_count": 14,
   "metadata": {},
   "outputs": [],
   "source": [
    "import random \n",
    "import numpy as np\n",
    "import matplotlib.pyplot as plt"
   ]
  },
  {
   "cell_type": "code",
   "execution_count": 15,
   "metadata": {},
   "outputs": [],
   "source": [
    "def dice():\n",
    "    return random.randint(1,6)"
   ]
  },
  {
   "cell_type": "code",
   "execution_count": 92,
   "metadata": {},
   "outputs": [],
   "source": [
    "list1 = []\n",
    "list2 = []\n",
    "\n",
    "def monte_carlo(n,m):\n",
    "    for i in range(n):\n",
    "        list1.append(dice())\n",
    "        target_number = list1.count(m)\n",
    "        plt.axhline(y=0.166, color = 'r', linestyle = '-')\n",
    "        plt.xlabel(\"Iteration\")\n",
    "        plt.ylabel(\"Probability\")\n",
    "        list2.append(list1.count(m)/len(list1))\n",
    "        plt.plot(list2)\n",
    "    return list1.count(m)/len(list1)\n",
    "    \n",
    "    "
   ]
  },
  {
   "cell_type": "code",
   "execution_count": 94,
   "metadata": {},
   "outputs": [
    {
     "data": {
      "text/plain": [
       "0.16833333333333333"
      ]
     },
     "execution_count": 94,
     "metadata": {},
     "output_type": "execute_result"
    },
    {
     "data": {
      "image/png": "[encoded data removed]",
      "text/plain": [
       "<Figure size 432x288 with 1 Axes>"
      ]
     },
     "metadata": {
      "needs_background": "light"
     },
     "output_type": "display_data"
    }
   ],
   "source": [
    "monte_carlo(700,1)"
   ]
  },
  {
   "cell_type": "code",
   "execution_count": null,
   "metadata": {},
   "outputs": [],
   "source": []
  },
  {
   "cell_type": "code",
   "execution_count": null,
   "metadata": {},
   "outputs": [],
   "source": []
  }
 ],
 "metadata": {
  "kernelspec": {
   "display_name": "Python [conda env:py38]",
   "language": "python",
   "name": "conda-env-py38-py"
  },
  "language_info": {
   "codemirror_mode": {
    "name": "ipython",
    "version": 3
   },
   "file_extension": ".py",
   "mimetype": "text/x-python",
   "name": "python",
   "nbconvert_exporter": "python",
   "pygments_lexer": "ipython3",
   "version": "3.8.3"
  }
 },
 "nbformat": 4,
 "nbformat_minor": 2
}
